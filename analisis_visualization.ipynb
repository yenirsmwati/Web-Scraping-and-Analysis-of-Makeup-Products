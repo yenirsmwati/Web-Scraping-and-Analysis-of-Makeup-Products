{
 "cells": [
  {
   "cell_type": "code",
   "execution_count": 2,
   "id": "97b09b13",
   "metadata": {},
   "outputs": [],
   "source": [
    "import pandas as pd\n",
    "import pandasql as ps\n",
    "import seaborn as sns\n",
    "import matplotlib.pyplot as plt"
   ]
  },
  {
   "cell_type": "code",
   "execution_count": 4,
   "id": "8a96350e",
   "metadata": {},
   "outputs": [
    {
     "data": {
      "text/html": [
       "<div>\n",
       "<style scoped>\n",
       "    .dataframe tbody tr th:only-of-type {\n",
       "        vertical-align: middle;\n",
       "    }\n",
       "\n",
       "    .dataframe tbody tr th {\n",
       "        vertical-align: top;\n",
       "    }\n",
       "\n",
       "    .dataframe thead th {\n",
       "        text-align: right;\n",
       "    }\n",
       "</style>\n",
       "<table border=\"1\" class=\"dataframe\">\n",
       "  <thead>\n",
       "    <tr style=\"text-align: right;\">\n",
       "      <th></th>\n",
       "      <th>Brand</th>\n",
       "      <th>Name</th>\n",
       "      <th>Rating</th>\n",
       "      <th>Review</th>\n",
       "      <th>Harga_Diskon</th>\n",
       "      <th>Harga_Asli</th>\n",
       "    </tr>\n",
       "  </thead>\n",
       "  <tbody>\n",
       "    <tr>\n",
       "      <th>0</th>\n",
       "      <td>Maybelline</td>\n",
       "      <td>Superstay Vinyl Ink Tint</td>\n",
       "      <td>4.7</td>\n",
       "      <td>5000</td>\n",
       "      <td>139900</td>\n",
       "      <td>139900</td>\n",
       "    </tr>\n",
       "    <tr>\n",
       "      <th>1</th>\n",
       "      <td>Skintific</td>\n",
       "      <td>Perfect Stay Velvet Matte Cushion</td>\n",
       "      <td>4.8</td>\n",
       "      <td>758</td>\n",
       "      <td>140700</td>\n",
       "      <td>168840</td>\n",
       "    </tr>\n",
       "    <tr>\n",
       "      <th>2</th>\n",
       "      <td>Dear Me Beauty</td>\n",
       "      <td>Serum Lip Tint</td>\n",
       "      <td>4.6</td>\n",
       "      <td>4300</td>\n",
       "      <td>35280</td>\n",
       "      <td>40670</td>\n",
       "    </tr>\n",
       "    <tr>\n",
       "      <th>3</th>\n",
       "      <td>Skintific</td>\n",
       "      <td>Ultra Cover Powder Foundation</td>\n",
       "      <td>4.8</td>\n",
       "      <td>294</td>\n",
       "      <td>124050</td>\n",
       "      <td>148860</td>\n",
       "    </tr>\n",
       "    <tr>\n",
       "      <th>4</th>\n",
       "      <td>barenbliss</td>\n",
       "      <td>Peach Makes Perfect Lip Tint</td>\n",
       "      <td>4.6</td>\n",
       "      <td>5800</td>\n",
       "      <td>65610</td>\n",
       "      <td>72900</td>\n",
       "    </tr>\n",
       "  </tbody>\n",
       "</table>\n",
       "</div>"
      ],
      "text/plain": [
       "            Brand                               Name Rating  Review  \\\n",
       "0      Maybelline           Superstay Vinyl Ink Tint    4.7    5000   \n",
       "1       Skintific  Perfect Stay Velvet Matte Cushion    4.8     758   \n",
       "2  Dear Me Beauty                     Serum Lip Tint    4.6    4300   \n",
       "3       Skintific      Ultra Cover Powder Foundation    4.8     294   \n",
       "4      barenbliss       Peach Makes Perfect Lip Tint    4.6    5800   \n",
       "\n",
       "   Harga_Diskon  Harga_Asli  \n",
       "0        139900      139900  \n",
       "1        140700      168840  \n",
       "2         35280       40670  \n",
       "3        124050      148860  \n",
       "4         65610       72900  "
      ]
     },
     "execution_count": 4,
     "metadata": {},
     "output_type": "execute_result"
    }
   ],
   "source": [
    "df = pd.read_csv(\"D:/4 COURSE/7 DIBIMBING/Sociolla/sociolla_clean.csv\")\n",
    "df.head()"
   ]
  },
  {
   "cell_type": "code",
   "execution_count": 58,
   "id": "c6bf73df",
   "metadata": {},
   "outputs": [
    {
     "name": "stdout",
     "output_type": "stream",
     "text": [
      "                    Brand  Jumlah\n",
      "0               Make Over      64\n",
      "1               Focallure      60\n",
      "2              BLP Beauty      56\n",
      "3                  Wardah      54\n",
      "4                   Elise      54\n",
      "5              Lavie Lash      50\n",
      "6        Jacquelle Beaute      44\n",
      "7                   Emina      42\n",
      "8                    ESQA      42\n",
      "9           Holika Holika      41\n",
      "10             Maybelline      38\n",
      "11           Rose All Day      35\n",
      "12               Luxcrime      35\n",
      "13                 Espoir      31\n",
      "14  Artisan Professionnel      31\n",
      "15             barenbliss      28\n",
      "16   Buttonscarves Beauty      27\n",
      "17            Blink Charm      27\n",
      "18              PinkFlash      26\n",
      "19               Mercredi      25\n"
     ]
    }
   ],
   "source": [
    "# SQL Query: Jumlah produk per-brand\n",
    "query1 = \"\"\"\n",
    "SELECT Brand, COUNT(*) AS Jumlah\n",
    "FROM df\n",
    "GROUP BY Brand\n",
    "ORDER BY Jumlah DESC\n",
    "LIMIT 20\n",
    "\"\"\"\n",
    "jumlah_produk_brand = ps.sqldf(query1, locals())\n",
    "print(jumlah_produk_brand)"
   ]
  },
  {
   "cell_type": "code",
   "execution_count": 59,
   "id": "e6143605",
   "metadata": {},
   "outputs": [
    {
     "data": {
      "image/png": "[encoded data removed]",
      "text/plain": [
       "<Figure size 720x432 with 1 Axes>"
      ]
     },
     "metadata": {
      "needs_background": "light"
     },
     "output_type": "display_data"
    }
   ],
   "source": [
    "# Visualisasi\n",
    "plt.figure(figsize=(10,6))\n",
    "sns.barplot(x=\"Jumlah\", y = \"Brand\", data = jumlah_produk_brand, palette = \"viridis\")\n",
    "plt.title(\"20 Brand dengan Produk Terbanyak\")\n",
    "plt.xlabel(\"Jumlah Produk\")\n",
    "plt.ylabel(\"Brand\")\n",
    "plt.tight_layout()\n",
    "plt.show()"
   ]
  },
  {
   "cell_type": "code",
   "execution_count": 21,
   "id": "94e6259e",
   "metadata": {},
   "outputs": [],
   "source": [
    "df['Review'] = df['Review'].replace(\"No Review\", 0).astype(int)"
   ]
  },
  {
   "cell_type": "code",
   "execution_count": 60,
   "id": "b01db001",
   "metadata": {},
   "outputs": [
    {
     "name": "stdout",
     "output_type": "stream",
     "text": [
      "               Brand  Jumlah_Review\n",
      "0             Wardah          67434\n",
      "1              Emina          63139\n",
      "2         Maybelline          51594\n",
      "3               ESQA          44033\n",
      "4          Make Over          42914\n",
      "5       Rose All Day          22014\n",
      "6         BLP Beauty          20196\n",
      "7    Mother of Pearl          16974\n",
      "8         barenbliss          16010\n",
      "9   Jacquelle Beaute           9930\n",
      "10    Dear Me Beauty           8686\n",
      "11      Loreal Paris           7717\n",
      "12         Skintific           7221\n",
      "13             Goban           6216\n",
      "14     Holika Holika           5717\n",
      "15     Studio Tropik           5443\n",
      "16         Focallure           4616\n",
      "17        YOU Beauty           4428\n",
      "18        Sea Makeup           3261\n",
      "19           Azarine           3180\n"
     ]
    }
   ],
   "source": [
    "# SQL Query: Total Review per Brand\n",
    "query2 = \"\"\"\n",
    "SELECT Brand, SUM(Review) AS Jumlah_Review\n",
    "FROM df\n",
    "GROUP BY Brand\n",
    "ORDER BY Jumlah_Review DESC\n",
    "LIMIT 20\n",
    "\"\"\"\n",
    "jumlah_review_brand = ps.sqldf(query2, locals())\n",
    "print(jumlah_review_brand)"
   ]
  },
  {
   "cell_type": "code",
   "execution_count": 34,
   "id": "87f04fc1",
   "metadata": {},
   "outputs": [
    {
     "data": {
      "image/png": "[encoded data removed]",
      "text/plain": [
       "<Figure size 720x432 with 1 Axes>"
      ]
     },
     "metadata": {
      "needs_background": "light"
     },
     "output_type": "display_data"
    }
   ],
   "source": [
    "# Visualisasi\n",
    "plt.figure(figsize=(10,6))\n",
    "sns.barplot(x=\"Jumlah_Review\", y = \"Brand\", data = jumlah_review_brand, palette = \"viridis\")\n",
    "plt.title(\"20 Brand dengan Review Terbanyak\")\n",
    "plt.xlabel(\"Jumlah Review\")\n",
    "plt.ylabel(\"Brand\")\n",
    "plt.tight_layout()\n",
    "plt.show()"
   ]
  },
  {
   "cell_type": "code",
   "execution_count": 61,
   "id": "00ec161b",
   "metadata": {},
   "outputs": [
    {
     "name": "stdout",
     "output_type": "stream",
     "text": [
      "                    Brand  Jumlah_Produk_Rating_47plus\n",
      "0                   Elise                           53\n",
      "1        Jacquelle Beaute                           42\n",
      "2              Lavie Lash                           33\n",
      "3              BLP Beauty                           31\n",
      "4                    ESQA                           29\n",
      "5                  Espoir                           27\n",
      "6             Blink Charm                           26\n",
      "7    Buttonscarves Beauty                           25\n",
      "8                Luxcrime                           24\n",
      "9   Artisan Professionnel                           23\n",
      "10             barenbliss                           22\n",
      "11             Maybelline                           22\n",
      "12               Mercredi                           21\n",
      "13           Rose All Day                           20\n",
      "14               YVENETIC                           19\n",
      "15              Skintific                           19\n",
      "16              Make Over                           19\n",
      "17                   KAJA                           19\n",
      "18                   Clio                           18\n",
      "19        Mother of Pearl                           16\n"
     ]
    }
   ],
   "source": [
    "# SQL Query: Jumlah Produk dari brand yang memiliki Rating diatas 4.7\n",
    "query3 = \"\"\"\n",
    "SELECT Brand, COUNT(*) AS Jumlah_Produk_Rating_47plus\n",
    "FROM df\n",
    "WHERE Rating >= 4.7\n",
    "GROUP BY Brand\n",
    "ORDER BY Jumlah_Produk_Rating_47plus DESC\n",
    "LIMIT 20\n",
    "\"\"\"\n",
    "hasil_rating47 = ps.sqldf(query3, locals())\n",
    "print(hasil_rating47)\n"
   ]
  },
  {
   "cell_type": "code",
   "execution_count": 62,
   "id": "7fc80937",
   "metadata": {},
   "outputs": [
    {
     "name": "stdout",
     "output_type": "stream",
     "text": [
      "              Brand  Total_Review  Jumlah_Produk  Review_to_Product_Ratio\n",
      "0             Emina         63139             42                  1503.31\n",
      "1        Maybelline         51594             38                  1357.74\n",
      "2            Wardah         67434             54                  1248.78\n",
      "3            Pond's          1200              1                  1200.00\n",
      "4              ESQA         44033             42                  1048.40\n",
      "5   Mother of Pearl         16974             21                   808.29\n",
      "6         Make Over         42914             64                   670.53\n",
      "7      Rose All Day         22014             35                   628.97\n",
      "8        barenbliss         16010             28                   571.79\n",
      "9      Loreal Paris          7717             15                   514.47\n",
      "10          Carasun          2937              6                   489.50\n",
      "11   Dear Me Beauty          8686             19                   457.16\n",
      "12    Studio Tropik          5443             13                   418.69\n",
      "13            Goban          6216             15                   414.40\n",
      "14        Skintific          7221             19                   380.05\n",
      "15       BLP Beauty         20196             56                   360.64\n",
      "16          Laneige           891              3                   297.00\n",
      "17   Mad For Makeup          2245              8                   280.63\n",
      "18            Mizzu          1685              7                   240.71\n",
      "19          Azarine          3180             14                   227.14\n"
     ]
    }
   ],
   "source": [
    "# Review to Product Ratio per Brand\n",
    "# Melihat engagement per produk\n",
    "# Membedakan brand dengan banyak produk tapi kurang menarik vs brand dengan produk yang benar-benar diperhatikan pelanggan.\n",
    "\n",
    "query4 = \"\"\"\n",
    "SELECT\n",
    "    Brand,\n",
    "    SUM(Review) AS Total_Review,\n",
    "    COUNT(*) AS Jumlah_Produk,\n",
    "    ROUND(1.0 * SUM(Review) / COUNT(*), 2) AS Review_to_Product_Ratio\n",
    "FROM df\n",
    "GROUP BY Brand\n",
    "ORDER BY Review_to_Product_Ratio DESC\n",
    "LIMIT 20\n",
    "\"\"\"\n",
    "\n",
    "avg_rating_df = ps.sqldf(query4, locals())\n",
    "print(avg_rating_df)"
   ]
  },
  {
   "cell_type": "code",
   "execution_count": 63,
   "id": "01736092",
   "metadata": {},
   "outputs": [
    {
     "name": "stdout",
     "output_type": "stream",
     "text": [
      "               Brand  Total_Review  Average_Rating\n",
      "0             Wardah         67434            4.36\n",
      "1              Emina         63139            4.33\n",
      "2         Maybelline         51594            4.17\n",
      "3               ESQA         44033            3.34\n",
      "4          Make Over         42914            4.35\n",
      "5       Rose All Day         22014            4.13\n",
      "6         BLP Beauty         20196            3.06\n",
      "7    Mother of Pearl         16974            4.68\n",
      "8         barenbliss         16010            4.22\n",
      "9   Jacquelle Beaute          9930            3.19\n",
      "10    Dear Me Beauty          8686            2.43\n",
      "11      Loreal Paris          7717            4.65\n",
      "12         Skintific          7221            2.53\n",
      "13             Goban          6216            3.38\n",
      "14     Holika Holika          5717            4.39\n",
      "15     Studio Tropik          5443            2.89\n",
      "16         Focallure          4616            4.51\n",
      "17        YOU Beauty          4428            4.59\n",
      "18        Sea Makeup          3261            3.45\n",
      "19           Azarine          3180            3.93\n"
     ]
    }
   ],
   "source": [
    "query5 = \"\"\"\n",
    "SELECT Brand, SUM(Review) AS Total_Review, ROUND(AVG(Rating), 2) AS Average_Rating\n",
    "FROM df\n",
    "GROUP BY Brand\n",
    "ORDER BY Total_Review DESC\n",
    "LIMIT 20\n",
    "\"\"\"\n",
    "hasil_avg_rating = ps.sqldf(query5, locals())\n",
    "print(hasil_avg_rating)"
   ]
  },
  {
   "cell_type": "code",
   "execution_count": null,
   "id": "5219b07f",
   "metadata": {},
   "outputs": [],
   "source": []
  }
 ],
 "metadata": {
  "kernelspec": {
   "display_name": "base",
   "language": "python",
   "name": "python3"
  },
  "language_info": {
   "codemirror_mode": {
    "name": "ipython",
    "version": 3
   },
   "file_extension": ".py",
   "mimetype": "text/x-python",
   "name": "python",
   "nbconvert_exporter": "python",
   "pygments_lexer": "ipython3",
   "version": "3.7.6"
  }
 },
 "nbformat": 4,
 "nbformat_minor": 5
}
