{
 "cells": [
  {
   "cell_type": "code",
   "execution_count": 37,
   "id": "919b8479",
   "metadata": {},
   "outputs": [],
   "source": [
    "import pandas as pd\n",
    "import re"
   ]
  },
  {
   "cell_type": "code",
   "execution_count": 38,
   "id": "83171fcf",
   "metadata": {},
   "outputs": [
    {
     "data": {
      "text/html": [
       "<div>\n",
       "<style scoped>\n",
       "    .dataframe tbody tr th:only-of-type {\n",
       "        vertical-align: middle;\n",
       "    }\n",
       "\n",
       "    .dataframe tbody tr th {\n",
       "        vertical-align: top;\n",
       "    }\n",
       "\n",
       "    .dataframe thead th {\n",
       "        text-align: right;\n",
       "    }\n",
       "</style>\n",
       "<table border=\"1\" class=\"dataframe\">\n",
       "  <thead>\n",
       "    <tr style=\"text-align: right;\">\n",
       "      <th></th>\n",
       "      <th>Brand</th>\n",
       "      <th>Name</th>\n",
       "      <th>Harga</th>\n",
       "      <th>Rating</th>\n",
       "      <th>Review</th>\n",
       "    </tr>\n",
       "  </thead>\n",
       "  <tbody>\n",
       "    <tr>\n",
       "      <th>0</th>\n",
       "      <td>Maybelline</td>\n",
       "      <td>Superstay Vinyl Ink Tint</td>\n",
       "      <td>Rp139.900</td>\n",
       "      <td>4.7</td>\n",
       "      <td>(5k)</td>\n",
       "    </tr>\n",
       "    <tr>\n",
       "      <th>1</th>\n",
       "      <td>Skintific</td>\n",
       "      <td>Perfect Stay Velvet Matte Cushion</td>\n",
       "      <td>Rp140.700-Rp168.840</td>\n",
       "      <td>4.8</td>\n",
       "      <td>(758)</td>\n",
       "    </tr>\n",
       "    <tr>\n",
       "      <th>2</th>\n",
       "      <td>Dear Me Beauty</td>\n",
       "      <td>Serum Lip Tint</td>\n",
       "      <td>Rp35.280-Rp40.670</td>\n",
       "      <td>4.6</td>\n",
       "      <td>(4,3k)</td>\n",
       "    </tr>\n",
       "    <tr>\n",
       "      <th>3</th>\n",
       "      <td>Skintific</td>\n",
       "      <td>Ultra Cover Powder Foundation</td>\n",
       "      <td>Rp124.050-Rp148.860</td>\n",
       "      <td>4.8</td>\n",
       "      <td>(294)</td>\n",
       "    </tr>\n",
       "    <tr>\n",
       "      <th>4</th>\n",
       "      <td>barenbliss</td>\n",
       "      <td>Peach Makes Perfect Lip Tint</td>\n",
       "      <td>Rp65.610Rp72.900</td>\n",
       "      <td>4.6</td>\n",
       "      <td>(5,8k)</td>\n",
       "    </tr>\n",
       "  </tbody>\n",
       "</table>\n",
       "</div>"
      ],
      "text/plain": [
       "            Brand                               Name                Harga  \\\n",
       "0      Maybelline           Superstay Vinyl Ink Tint            Rp139.900   \n",
       "1       Skintific  Perfect Stay Velvet Matte Cushion  Rp140.700-Rp168.840   \n",
       "2  Dear Me Beauty                     Serum Lip Tint    Rp35.280-Rp40.670   \n",
       "3       Skintific      Ultra Cover Powder Foundation  Rp124.050-Rp148.860   \n",
       "4      barenbliss       Peach Makes Perfect Lip Tint     Rp65.610Rp72.900   \n",
       "\n",
       "  Rating  Review  \n",
       "0    4.7    (5k)  \n",
       "1    4.8   (758)  \n",
       "2    4.6  (4,3k)  \n",
       "3    4.8   (294)  \n",
       "4    4.6  (5,8k)  "
      ]
     },
     "execution_count": 38,
     "metadata": {},
     "output_type": "execute_result"
    }
   ],
   "source": [
    "df = pd.read_csv(\"D:/4 COURSE/7 DIBIMBING/Sociolla/sociolla_makeup_data.csv\")\n",
    "df.head()"
   ]
  },
  {
   "cell_type": "code",
   "execution_count": 39,
   "id": "a7bd4c8b",
   "metadata": {},
   "outputs": [
    {
     "name": "stdout",
     "output_type": "stream",
     "text": [
      "<class 'pandas.core.frame.DataFrame'>\n",
      "RangeIndex: 1498 entries, 0 to 1497\n",
      "Data columns (total 5 columns):\n",
      " #   Column  Non-Null Count  Dtype \n",
      "---  ------  --------------  ----- \n",
      " 0   Brand   1498 non-null   object\n",
      " 1   Name    1498 non-null   object\n",
      " 2   Harga   1498 non-null   object\n",
      " 3   Rating  1498 non-null   object\n",
      " 4   Review  1498 non-null   object\n",
      "dtypes: object(5)\n",
      "memory usage: 58.6+ KB\n"
     ]
    }
   ],
   "source": [
    "df.info()"
   ]
  },
  {
   "cell_type": "code",
   "execution_count": 40,
   "id": "19889fd1",
   "metadata": {},
   "outputs": [
    {
     "data": {
      "text/plain": [
       "array(['4.7', '4.8', '4.6', '4.9', '4.5', '4.4', '4.2', 'No Rating',\n",
       "       '4.3', '5.0', '4.0', '4.1', '3.6', '3.0', '3.9', '3.8', '3.2',\n",
       "       '3.4', '2.8', '3.7'], dtype=object)"
      ]
     },
     "execution_count": 40,
     "metadata": {},
     "output_type": "execute_result"
    }
   ],
   "source": [
    "df['Rating'].unique()"
   ]
  },
  {
   "cell_type": "code",
   "execution_count": 41,
   "id": "bdd5b165",
   "metadata": {},
   "outputs": [
    {
     "data": {
      "text/plain": [
       "array(['(5k)', '(758)', '(4,3k)', '(294)', '(5,8k)', '(3,5k)', '(1,1k)',\n",
       "       '(2,9k)', '(404)', '(310)', '(5,1k)', '(1k)', '(475)', '(2,1k)',\n",
       "       '(1,7k)', '(400)', '(225)', '(1,5k)', '(1,4k)', '(4,2k)', '(298)',\n",
       "       '(212)', '(547)', '(1,9k)', '(99)', '(4,6k)', '(2,6k)', '(210)',\n",
       "       '(2,2k)', '(3k)', '(807)', '(178)', '(440)', '(8,3k)', '(265)',\n",
       "       '(1,2k)', '(2,5k)', '(467)', '(3,8k)', '(296)', '(2,3k)', '(238)',\n",
       "       '(4,7k)', '(454)', '(297)', '(421)', '(106)', '(578)', '(844)',\n",
       "       '(147)', '(3,1k)', '(221)', '(62)', '(2k)', '(170)', '(437)',\n",
       "       '(94)', '(96)', '(540)', '(182)', '(177)', '(97)', '(626)',\n",
       "       '(391)', '(93)', '(61)', '(500)', '(1,8k)', '(455)', '(944)',\n",
       "       '(345)', '(660)', '(59)', '(245)', '(691)', '(64)', '(372)',\n",
       "       '(559)', '(76)', '(131)', '(111)', '(185)', '(312)', '(135)',\n",
       "       '(522)', '(22)', '(955)', '(446)', '(73)', '(227)', '(281)',\n",
       "       '(5,9k)', '(2,4k)', '(1,3k)', '(104)', '(284)', '(431)', '(224)',\n",
       "       '(502)', '(153)', '(239)', '(215)', '(27)', '(728)', '(631)',\n",
       "       '(83)', '(272)', '(228)', '(38)', '(268)', '(283)', '(74)',\n",
       "       '(586)', '(184)', '(159)', '(50)', '(453)', '(670)', '(30)',\n",
       "       '(3,7k)', '(49)', '(8,7k)', '(43)', '(736)', '(307)', '(24)',\n",
       "       '(302)', '(40)', '(384)', '(219)', '(132)', '(65)', '(181)',\n",
       "       '(46)', '(35)', '(41)', '(54)', '(652)', '(113)', '(29)', '(138)',\n",
       "       '(28)', '(3,2k)', '(689)', '(141)', '(202)', '(56)', '(21)',\n",
       "       '(85)', '(465)', '(624)', '(171)', '(174)', '(51)', '(75)',\n",
       "       '(117)', '(60)', '(160)', '(17)', '(15,9k)', '(237)', '(213)',\n",
       "       '(12)', '(328)', '(26)', '(549)', '(45)', '(923)', '(109)', '(95)',\n",
       "       '(108)', '(25)', '(567)', '(389)', '(137)', '(101)', '(230)',\n",
       "       '(16)', '(6)', '(191)', '(3)', '(376)', '(34)', '(11)', '(910)',\n",
       "       '(333)', '(195)', '(55)', '(5,4k)', '(757)', '(100)', '(20)',\n",
       "       '(250)', '(125)', '(48)', '(127)', '(647)', '(193)', '(44)',\n",
       "       '(164)', '(501)', '(194)', '(18)', '(9)', '(325)', '(262)', '(37)',\n",
       "       '(23)', '(5)', '(158)', '(879)', '(136)', '(169)', '(246)',\n",
       "       'No Review', '(899)', '(92)', '(36)', '(31)', '(972)', '(78)',\n",
       "       '(256)', '(66)', '(269)', '(295)', '(15)', '(163)', '(87)', '(7)',\n",
       "       '(69)', '(79)', '(2)', '(139)', '(287)', '(144)', '(557)', '(10)',\n",
       "       '(32)', '(4)', '(579)', '(254)', '(754)', '(14)', '(180)', '(921)',\n",
       "       '(458)', '(58)', '(205)', '(252)', '(39)', '(277)', '(9,4k)',\n",
       "       '(414)', '(253)', '(510)', '(119)', '(70)', '(974)', '(8)', '(89)',\n",
       "       '(676)', '(133)', '(216)', '(326)', '(13)', '(985)', '(116)',\n",
       "       '(1)', '(105)', '(234)', '(218)', '(407)', '(451)', '(11,7k)',\n",
       "       '(88)', '(126)', '(47)', '(140)', '(570)', '(301)', '(707)',\n",
       "       '(201)', '(214)', '(477)', '(211)', '(6,5k)', '(179)', '(13,1k)',\n",
       "       '(33)', '(356)', '(548)', '(342)', '(203)', '(4,1k)', '(152)',\n",
       "       '(42)', '(19)', '(190)', '(122)', '(523)', '(142)', '(204)',\n",
       "       '(584)', '(447)', '(377)', '(411)', '(314)', '(149)', '(956)',\n",
       "       '(546)', '(81)', '(444)', '(145)', '(157)', '(435)', '(424)',\n",
       "       '(77)', '(107)', '(417)', '(240)', '(188)', '(91)', '(129)',\n",
       "       '(316)', '(344)', '(433)', '(114)', '(537)', '(72)', '(646)',\n",
       "       '(838)', '(161)', '(468)', '(264)', '(645)', '(222)', '(67)',\n",
       "       '(473)', '(364)', '(935)', '(84)', '(596)', '(1,6k)', '(231)',\n",
       "       '(53)', '(353)', '(542)', '(777)', '(594)', '(124)', '(963)',\n",
       "       '(288)', '(420)', '(134)', '(456)', '(378)', '(120)', '(374)',\n",
       "       '(422)', '(176)', '(243)', '(598)', '(2,7k)', '(68)', '(671)',\n",
       "       '(223)', '(656)', '(71)', '(317)', '(220)', '(199)', '(680)',\n",
       "       '(63)', '(166)', '(57)', '(3,6k)', '(274)', '(2,8k)', '(198)',\n",
       "       '(819)', '(327)', '(343)', '(836)', '(3,4k)', '(563)', '(919)',\n",
       "       '(497)', '(536)', '(207)', '(52)', '(375)', '(511)', '(235)',\n",
       "       '(412)', '(86)', '(311)'], dtype=object)"
      ]
     },
     "execution_count": 41,
     "metadata": {},
     "output_type": "execute_result"
    }
   ],
   "source": [
    "df['Review'].unique()"
   ]
  },
  {
   "cell_type": "markdown",
   "id": "02d0b6e1",
   "metadata": {},
   "source": [
    "### Data Cleaning\n",
    "1. Terdapat 2 harga yaitu harga awal dan harga setelah diskon (Harus dipisahkan)\n",
    "3. Data pada kolom Review masih belum konsisten"
   ]
  },
  {
   "cell_type": "code",
   "execution_count": 42,
   "id": "5f894d52",
   "metadata": {},
   "outputs": [],
   "source": [
    "# Membuat kolom Harga diskon dan harga asli\n",
    "\n",
    "def ekstrak_harga(data):\n",
    "    harga = re.findall(r'Rp?([\\d.]+)', data)\n",
    "    harga = [int(p.replace('.', '').replace(',', '.')) for p in harga]\n",
    "\n",
    "    if len(harga) == 1:\n",
    "        return pd.Series([harga[0], harga[0]])  # harga diskon = harga asli\n",
    "    elif len(harga) == 2:\n",
    "        return pd.Series(harga)\n",
    "    else:\n",
    "        return pd.Series([None, None])\n",
    "    \n",
    "df[['Harga_Diskon', 'Harga_Asli']] = df['Harga'].apply(ekstrak_harga)"
   ]
  },
  {
   "cell_type": "code",
   "execution_count": 43,
   "id": "9c833118",
   "metadata": {},
   "outputs": [
    {
     "data": {
      "text/html": [
       "<div>\n",
       "<style scoped>\n",
       "    .dataframe tbody tr th:only-of-type {\n",
       "        vertical-align: middle;\n",
       "    }\n",
       "\n",
       "    .dataframe tbody tr th {\n",
       "        vertical-align: top;\n",
       "    }\n",
       "\n",
       "    .dataframe thead th {\n",
       "        text-align: right;\n",
       "    }\n",
       "</style>\n",
       "<table border=\"1\" class=\"dataframe\">\n",
       "  <thead>\n",
       "    <tr style=\"text-align: right;\">\n",
       "      <th></th>\n",
       "      <th>Brand</th>\n",
       "      <th>Name</th>\n",
       "      <th>Harga</th>\n",
       "      <th>Rating</th>\n",
       "      <th>Review</th>\n",
       "      <th>Harga_Diskon</th>\n",
       "      <th>Harga_Asli</th>\n",
       "    </tr>\n",
       "  </thead>\n",
       "  <tbody>\n",
       "    <tr>\n",
       "      <th>0</th>\n",
       "      <td>Maybelline</td>\n",
       "      <td>Superstay Vinyl Ink Tint</td>\n",
       "      <td>Rp139.900</td>\n",
       "      <td>4.7</td>\n",
       "      <td>(5k)</td>\n",
       "      <td>139900</td>\n",
       "      <td>139900</td>\n",
       "    </tr>\n",
       "    <tr>\n",
       "      <th>1</th>\n",
       "      <td>Skintific</td>\n",
       "      <td>Perfect Stay Velvet Matte Cushion</td>\n",
       "      <td>Rp140.700-Rp168.840</td>\n",
       "      <td>4.8</td>\n",
       "      <td>(758)</td>\n",
       "      <td>140700</td>\n",
       "      <td>168840</td>\n",
       "    </tr>\n",
       "    <tr>\n",
       "      <th>2</th>\n",
       "      <td>Dear Me Beauty</td>\n",
       "      <td>Serum Lip Tint</td>\n",
       "      <td>Rp35.280-Rp40.670</td>\n",
       "      <td>4.6</td>\n",
       "      <td>(4,3k)</td>\n",
       "      <td>35280</td>\n",
       "      <td>40670</td>\n",
       "    </tr>\n",
       "    <tr>\n",
       "      <th>3</th>\n",
       "      <td>Skintific</td>\n",
       "      <td>Ultra Cover Powder Foundation</td>\n",
       "      <td>Rp124.050-Rp148.860</td>\n",
       "      <td>4.8</td>\n",
       "      <td>(294)</td>\n",
       "      <td>124050</td>\n",
       "      <td>148860</td>\n",
       "    </tr>\n",
       "    <tr>\n",
       "      <th>4</th>\n",
       "      <td>barenbliss</td>\n",
       "      <td>Peach Makes Perfect Lip Tint</td>\n",
       "      <td>Rp65.610Rp72.900</td>\n",
       "      <td>4.6</td>\n",
       "      <td>(5,8k)</td>\n",
       "      <td>65610</td>\n",
       "      <td>72900</td>\n",
       "    </tr>\n",
       "  </tbody>\n",
       "</table>\n",
       "</div>"
      ],
      "text/plain": [
       "            Brand                               Name                Harga  \\\n",
       "0      Maybelline           Superstay Vinyl Ink Tint            Rp139.900   \n",
       "1       Skintific  Perfect Stay Velvet Matte Cushion  Rp140.700-Rp168.840   \n",
       "2  Dear Me Beauty                     Serum Lip Tint    Rp35.280-Rp40.670   \n",
       "3       Skintific      Ultra Cover Powder Foundation  Rp124.050-Rp148.860   \n",
       "4      barenbliss       Peach Makes Perfect Lip Tint     Rp65.610Rp72.900   \n",
       "\n",
       "  Rating  Review  Harga_Diskon  Harga_Asli  \n",
       "0    4.7    (5k)        139900      139900  \n",
       "1    4.8   (758)        140700      168840  \n",
       "2    4.6  (4,3k)         35280       40670  \n",
       "3    4.8   (294)        124050      148860  \n",
       "4    4.6  (5,8k)         65610       72900  "
      ]
     },
     "execution_count": 43,
     "metadata": {},
     "output_type": "execute_result"
    }
   ],
   "source": [
    "df.head()"
   ]
  },
  {
   "cell_type": "code",
   "execution_count": 44,
   "id": "df1ba3af",
   "metadata": {},
   "outputs": [
    {
     "name": "stdout",
     "output_type": "stream",
     "text": [
      "<class 'pandas.core.frame.DataFrame'>\n",
      "RangeIndex: 1498 entries, 0 to 1497\n",
      "Data columns (total 7 columns):\n",
      " #   Column        Non-Null Count  Dtype \n",
      "---  ------        --------------  ----- \n",
      " 0   Brand         1498 non-null   object\n",
      " 1   Name          1498 non-null   object\n",
      " 2   Harga         1498 non-null   object\n",
      " 3   Rating        1498 non-null   object\n",
      " 4   Review        1498 non-null   object\n",
      " 5   Harga_Diskon  1498 non-null   int64 \n",
      " 6   Harga_Asli    1498 non-null   int64 \n",
      "dtypes: int64(2), object(5)\n",
      "memory usage: 82.0+ KB\n"
     ]
    }
   ],
   "source": [
    "df.info()"
   ]
  },
  {
   "cell_type": "code",
   "execution_count": 45,
   "id": "d5791e46",
   "metadata": {},
   "outputs": [],
   "source": [
    "# Mengganti \"k\" menjadi ribu pada kolom review\n",
    "\n",
    "def ubah_review(data):\n",
    "    value = str(data).strip('()')  \n",
    "    value = value.replace(',', '.')\n",
    "\n",
    "    if value.lower() == 'no review':\n",
    "        return 0  # anggap review kosong = 0\n",
    "    elif 'k' in value:\n",
    "        return int(float(value.replace('k', '')) * 1000)\n",
    "    else:\n",
    "        return int(value)\n",
    "\n",
    "\n",
    "df['Review'] = df['Review'].apply(ubah_review)\n"
   ]
  },
  {
   "cell_type": "code",
   "execution_count": 46,
   "id": "1cecc769",
   "metadata": {},
   "outputs": [
    {
     "data": {
      "text/html": [
       "<div>\n",
       "<style scoped>\n",
       "    .dataframe tbody tr th:only-of-type {\n",
       "        vertical-align: middle;\n",
       "    }\n",
       "\n",
       "    .dataframe tbody tr th {\n",
       "        vertical-align: top;\n",
       "    }\n",
       "\n",
       "    .dataframe thead th {\n",
       "        text-align: right;\n",
       "    }\n",
       "</style>\n",
       "<table border=\"1\" class=\"dataframe\">\n",
       "  <thead>\n",
       "    <tr style=\"text-align: right;\">\n",
       "      <th></th>\n",
       "      <th>Brand</th>\n",
       "      <th>Name</th>\n",
       "      <th>Harga</th>\n",
       "      <th>Rating</th>\n",
       "      <th>Review</th>\n",
       "      <th>Harga_Diskon</th>\n",
       "      <th>Harga_Asli</th>\n",
       "    </tr>\n",
       "  </thead>\n",
       "  <tbody>\n",
       "    <tr>\n",
       "      <th>0</th>\n",
       "      <td>Maybelline</td>\n",
       "      <td>Superstay Vinyl Ink Tint</td>\n",
       "      <td>Rp139.900</td>\n",
       "      <td>4.7</td>\n",
       "      <td>5000</td>\n",
       "      <td>139900</td>\n",
       "      <td>139900</td>\n",
       "    </tr>\n",
       "    <tr>\n",
       "      <th>1</th>\n",
       "      <td>Skintific</td>\n",
       "      <td>Perfect Stay Velvet Matte Cushion</td>\n",
       "      <td>Rp140.700-Rp168.840</td>\n",
       "      <td>4.8</td>\n",
       "      <td>758</td>\n",
       "      <td>140700</td>\n",
       "      <td>168840</td>\n",
       "    </tr>\n",
       "    <tr>\n",
       "      <th>2</th>\n",
       "      <td>Dear Me Beauty</td>\n",
       "      <td>Serum Lip Tint</td>\n",
       "      <td>Rp35.280-Rp40.670</td>\n",
       "      <td>4.6</td>\n",
       "      <td>4300</td>\n",
       "      <td>35280</td>\n",
       "      <td>40670</td>\n",
       "    </tr>\n",
       "    <tr>\n",
       "      <th>3</th>\n",
       "      <td>Skintific</td>\n",
       "      <td>Ultra Cover Powder Foundation</td>\n",
       "      <td>Rp124.050-Rp148.860</td>\n",
       "      <td>4.8</td>\n",
       "      <td>294</td>\n",
       "      <td>124050</td>\n",
       "      <td>148860</td>\n",
       "    </tr>\n",
       "    <tr>\n",
       "      <th>4</th>\n",
       "      <td>barenbliss</td>\n",
       "      <td>Peach Makes Perfect Lip Tint</td>\n",
       "      <td>Rp65.610Rp72.900</td>\n",
       "      <td>4.6</td>\n",
       "      <td>5800</td>\n",
       "      <td>65610</td>\n",
       "      <td>72900</td>\n",
       "    </tr>\n",
       "  </tbody>\n",
       "</table>\n",
       "</div>"
      ],
      "text/plain": [
       "            Brand                               Name                Harga  \\\n",
       "0      Maybelline           Superstay Vinyl Ink Tint            Rp139.900   \n",
       "1       Skintific  Perfect Stay Velvet Matte Cushion  Rp140.700-Rp168.840   \n",
       "2  Dear Me Beauty                     Serum Lip Tint    Rp35.280-Rp40.670   \n",
       "3       Skintific      Ultra Cover Powder Foundation  Rp124.050-Rp148.860   \n",
       "4      barenbliss       Peach Makes Perfect Lip Tint     Rp65.610Rp72.900   \n",
       "\n",
       "  Rating  Review  Harga_Diskon  Harga_Asli  \n",
       "0    4.7    5000        139900      139900  \n",
       "1    4.8     758        140700      168840  \n",
       "2    4.6    4300         35280       40670  \n",
       "3    4.8     294        124050      148860  \n",
       "4    4.6    5800         65610       72900  "
      ]
     },
     "execution_count": 46,
     "metadata": {},
     "output_type": "execute_result"
    }
   ],
   "source": [
    "df.head()"
   ]
  },
  {
   "cell_type": "code",
   "execution_count": 47,
   "id": "e1580e63",
   "metadata": {},
   "outputs": [
    {
     "name": "stdout",
     "output_type": "stream",
     "text": [
      "<class 'pandas.core.frame.DataFrame'>\n",
      "RangeIndex: 1498 entries, 0 to 1497\n",
      "Data columns (total 7 columns):\n",
      " #   Column        Non-Null Count  Dtype \n",
      "---  ------        --------------  ----- \n",
      " 0   Brand         1498 non-null   object\n",
      " 1   Name          1498 non-null   object\n",
      " 2   Harga         1498 non-null   object\n",
      " 3   Rating        1498 non-null   object\n",
      " 4   Review        1498 non-null   int64 \n",
      " 5   Harga_Diskon  1498 non-null   int64 \n",
      " 6   Harga_Asli    1498 non-null   int64 \n",
      "dtypes: int64(3), object(4)\n",
      "memory usage: 82.0+ KB\n"
     ]
    }
   ],
   "source": [
    "df.info()"
   ]
  },
  {
   "cell_type": "code",
   "execution_count": 50,
   "id": "23af08ae",
   "metadata": {},
   "outputs": [],
   "source": [
    "df_clean = df.drop(columns=['Harga'])"
   ]
  },
  {
   "cell_type": "code",
   "execution_count": 51,
   "id": "136d9529",
   "metadata": {},
   "outputs": [],
   "source": [
    "df_clean.to_csv('sociolla_clean.csv', index = False)"
   ]
  },
  {
   "cell_type": "code",
   "execution_count": null,
   "id": "5a48b47d",
   "metadata": {},
   "outputs": [],
   "source": []
  }
 ],
 "metadata": {
  "kernelspec": {
   "display_name": "base",
   "language": "python",
   "name": "python3"
  },
  "language_info": {
   "codemirror_mode": {
    "name": "ipython",
    "version": 3
   },
   "file_extension": ".py",
   "mimetype": "text/x-python",
   "name": "python",
   "nbconvert_exporter": "python",
   "pygments_lexer": "ipython3",
   "version": "3.7.6"
  }
 },
 "nbformat": 4,
 "nbformat_minor": 5
}
